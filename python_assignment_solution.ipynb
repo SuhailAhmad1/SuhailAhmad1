{
  "nbformat": 4,
  "nbformat_minor": 0,
  "metadata": {
    "colab": {
      "name": "python_assignment_solution.ipynb",
      "provenance": [],
      "toc_visible": true,
      "authorship_tag": "ABX9TyOGCWD7+kL2wo9GC3LxOUQG",
      "include_colab_link": true
    },
    "kernelspec": {
      "name": "python3",
      "display_name": "Python 3"
    },
    "language_info": {
      "name": "python"
    }
  },
  "cells": [
    {
      "cell_type": "markdown",
      "metadata": {
        "id": "view-in-github",
        "colab_type": "text"
      },
      "source": [
        "<a href=\"https://colab.research.google.com/github/SuhailAhmad1/SuhailAhmad1/blob/main/python_assignment_solution.ipynb\" target=\"_parent\"><img src=\"https://colab.research.google.com/assets/colab-badge.svg\" alt=\"Open In Colab\"/></a>"
      ]
    },
    {
      "cell_type": "markdown",
      "source": [
        "# ***Getting Data for a single page***"
      ],
      "metadata": {
        "id": "FqaC3a0ZsFmc"
      }
    },
    {
      "cell_type": "markdown",
      "source": [
        "# Importing Important Libraries"
      ],
      "metadata": {
        "id": "dbwS4B6aeDgt"
      }
    },
    {
      "cell_type": "code",
      "source": [
        "import requests\n",
        "\n",
        "import pandas as pd \n",
        "from bs4 import BeautifulSoup as bs"
      ],
      "metadata": {
        "id": "j6uVH0tTeMix"
      },
      "execution_count": 4,
      "outputs": []
    },
    {
      "cell_type": "markdown",
      "source": [
        "# Getting the response from Amazon"
      ],
      "metadata": {
        "id": "Y2LpZc7Yev3A"
      }
    },
    {
      "cell_type": "code",
      "source": [
        "url = 'https://www.amazon.in/s?k=bags&crid=2M096C61O4MLT&qid=1653308124&sprefix=ba%2Caps%2C283&ref=sr_pg_1'\n",
        "header = {\"user-agent\": \"Mozilla/5.0 (Windows NT 11.0; Win64; x64) AppleWebKit/537.36 (KHTML, like Gecko) Chrome/74.0.3729.169 Safari/537.36\" ,'referer':'https://www.google.com/'}\n",
        "response = requests.get(url, headers = header)"
      ],
      "metadata": {
        "id": "Y2ravKome8Tn"
      },
      "execution_count": 131,
      "outputs": []
    },
    {
      "cell_type": "code",
      "source": [
        "soup = bs(response.content)"
      ],
      "metadata": {
        "id": "PDz3WriEgCT7"
      },
      "execution_count": 132,
      "outputs": []
    },
    {
      "cell_type": "code",
      "source": [
        "data_fields = soup.find_all('div', attrs={'data-component-type':'s-search-result'})"
      ],
      "metadata": {
        "id": "Q-bSTaJYqC_-"
      },
      "execution_count": 134,
      "outputs": []
    },
    {
      "cell_type": "markdown",
      "source": [
        "# Getting the Product Names"
      ],
      "metadata": {
        "id": "QzPfbYMU3I4u"
      }
    },
    {
      "cell_type": "code",
      "source": [
        "names_list=[]\n",
        "names_raw = []\n",
        "for row in data_fields:\n",
        "  name_raw = row.find_all('span', attrs={'class': 'a-size-medium a-color-base a-text-normal'})\n",
        "  names_list.append(name_raw[0].text)"
      ],
      "metadata": {
        "id": "R64WgYeMz394"
      },
      "execution_count": 135,
      "outputs": []
    },
    {
      "cell_type": "code",
      "source": [
        "names_list"
      ],
      "metadata": {
        "colab": {
          "base_uri": "https://localhost:8080/"
        },
        "id": "g90u2eEQz377",
        "outputId": "573ea67d-8f74-4fb8-f552-c02e214b218e"
      },
      "execution_count": 113,
      "outputs": [
        {
          "output_type": "execute_result",
          "data": {
            "text/plain": [
              "[\"Lunar's Bingo - 48 L Laptop Office/School/Travel/Business Backpack Water Resistant - Fits Up to 15.6 Inch Laptop Notebook with 1 Year Warranty\",\n",
              " 'PALAY® BTS Student Backpack with Cable Vent, Backpack Travel Bag Students Backpack Laptop Bag',\n",
              " 'American Tourister Casual Backpack',\n",
              " 'LOVEVOOK Laptop Backpack Work Travel Backpack for Women Men 17 Inch Anti Theft Computer Bag Waterproof College Bookbag',\n",
              " 'Half Moon 35 L Casual Waterproof Laptop Bag/Backpack for Men Women Boys Girls/Office School College Teens & Students with Rain Cover (18 Inch) (Navy)',\n",
              " 'SAFARI 15 Ltrs Sea Blue Casual/School/College Backpack (DAYPACKNEO15CBSEB)',\n",
              " 'TRUE HUMAN Emperor Anti-Theft backpack With USB charging Port and anti -theft back pocket Laptop bag , office bag , college bag ( LEGEND )',\n",
              " 'Northzone Lightweight School Bags Backpacks for Boys Girls Stylish Men and Women Casual Travel Laptop Bag College Office (Navy Blue) 40L',\n",
              " 'Fur Jaden 15.6 Inch Laptop Backpack 25 LTR Bag for School, College and Office with USB Charging Port',\n",
              " 'Skybags Brat Black 46 Cms Casual Backpack',\n",
              " 'Half Moon 35 L Casual Waterproof Laptop Bag/Backpack for Men Women Boys Girls/Office School College Teens & Students with Rain Cover (18 Inch) (Navy)',\n",
              " 'POLESTAR Vintage 32 L College/ School/ Office/ Casual/ Travel Backpack with 15.6\" laptop compartment, suitable for both men & women,1 year warranty',\n",
              " 'Martucci 15.6 inch 30 L Casual Waterproof Laptop Backpack/Office Bag/School Bag/College Bag/Business Bag/Unisex Travel Backpack(Black)',\n",
              " 'Fur Jaden Anti Theft Backpack 15.6 Inch Laptop Bag with USB Charging Port and Water Resistant Fabric',\n",
              " 'Lenovo Slim Everyday Backpack',\n",
              " 'ADISA Laptop Backpack 31 Ltrs',\n",
              " 'SAFARI 15 Ltrs Denim Blue Casual/School/College Backpack (DAYPACKNEO15CBDNB)',\n",
              " 'Gear Classic Anti Theft Faux Leather 18 inch 48 cms Brown Laptop Backpack (LBPCLSLTH0201)',\n",
              " \"Lunar's Bingo - 48 L Laptop Office/School/Travel/Business Backpack Water Resistant - Fits Up to 15.6 Inch Laptop Notebook with 1 Year Warranty\",\n",
              " \"Lunar's Bingo - 48 L Laptop Office/School/Travel/Business Backpack Water Resistant - Fits Up to 15.6 Inch Laptop Notebook with 1 Year Warranty\",\n",
              " 'Urban Tribe Accelerator 30L Laptop Backpack with 15.6\" compartment for Office/Business/Travel/College, Casual Bag for Men and Women, Black',\n",
              " 'HEROZ Hammer Unisex Nylon 45 L Travel Laptop Backpack Water Resistant Slim Durable Fits Up to 17.3 Inch Laptop Notebook (All) (Grey & Black)']"
            ]
          },
          "metadata": {},
          "execution_count": 113
        }
      ]
    },
    {
      "cell_type": "markdown",
      "source": [
        "# Getting The Product Ratings"
      ],
      "metadata": {
        "id": "CKki6vXT3RuJ"
      }
    },
    {
      "cell_type": "code",
      "source": [
        "ratings_list=[]\n",
        "rat = []\n",
        "for row in data_fields:\n",
        "  rat = row.find_all('span', attrs={'class': 'a-icon-alt'})\n",
        "  if(rat):\n",
        "    ratings_list.append(rat[0].text)\n",
        "  else:\n",
        "    ratings_list.append('Not Available')"
      ],
      "metadata": {
        "id": "ECpWkleLz35q"
      },
      "execution_count": 136,
      "outputs": []
    },
    {
      "cell_type": "code",
      "source": [
        "ratings_list"
      ],
      "metadata": {
        "colab": {
          "base_uri": "https://localhost:8080/"
        },
        "id": "KiQ6IyD03DyI",
        "outputId": "5ba76bc8-76bc-4251-f033-be7612140371"
      },
      "execution_count": 137,
      "outputs": [
        {
          "output_type": "execute_result",
          "data": {
            "text/plain": [
              "['Not Available',\n",
              " 'Not Available',\n",
              " '4.1 out of 5 stars',\n",
              " '4.6 out of 5 stars',\n",
              " '3.9 out of 5 stars',\n",
              " '4.0 out of 5 stars',\n",
              " '3.9 out of 5 stars',\n",
              " '3.9 out of 5 stars',\n",
              " '4.0 out of 5 stars',\n",
              " '4.1 out of 5 stars',\n",
              " '3.9 out of 5 stars',\n",
              " '4.0 out of 5 stars',\n",
              " '4.1 out of 5 stars',\n",
              " '4.0 out of 5 stars',\n",
              " '4.0 out of 5 stars',\n",
              " '4.1 out of 5 stars',\n",
              " '4.0 out of 5 stars',\n",
              " '4.4 out of 5 stars',\n",
              " '3.9 out of 5 stars',\n",
              " '3.9 out of 5 stars',\n",
              " '4.1 out of 5 stars',\n",
              " '3.9 out of 5 stars']"
            ]
          },
          "metadata": {},
          "execution_count": 137
        }
      ]
    },
    {
      "cell_type": "markdown",
      "source": [
        "#Getting Product Prices"
      ],
      "metadata": {
        "id": "zpZQ6zZg7yj6"
      }
    },
    {
      "cell_type": "code",
      "source": [
        "prices_list = []\n",
        "prices_raw = []\n",
        "for row in data_fields:\n",
        "  price_raw = row.find_all('span', attrs={'class':'a-offscreen'})\n",
        "  if(price_raw):\n",
        "    prices_list.append(price_raw[0].text)\n",
        "  else:\n",
        "    prices_list.append(\"NA\")"
      ],
      "metadata": {
        "id": "3RK8-PRg76_b"
      },
      "execution_count": 138,
      "outputs": []
    },
    {
      "cell_type": "code",
      "source": [
        "prices_list"
      ],
      "metadata": {
        "colab": {
          "base_uri": "https://localhost:8080/"
        },
        "id": "C7DttW5p8p6l",
        "outputId": "cc255e60-d801-4c03-dde9-1e3415ae68c5"
      },
      "execution_count": 139,
      "outputs": [
        {
          "output_type": "execute_result",
          "data": {
            "text/plain": [
              "['₹1,699',\n",
              " '₹799',\n",
              " '₹999',\n",
              " 'NA',\n",
              " '₹689',\n",
              " '₹299',\n",
              " '₹689',\n",
              " '₹499',\n",
              " '₹593',\n",
              " '₹599',\n",
              " '₹689',\n",
              " '₹619',\n",
              " '₹539',\n",
              " '₹799',\n",
              " '₹509',\n",
              " '₹512',\n",
              " '₹299',\n",
              " '₹890',\n",
              " '₹899',\n",
              " '₹899',\n",
              " '₹1,649',\n",
              " '₹899']"
            ]
          },
          "metadata": {},
          "execution_count": 139
        }
      ]
    },
    {
      "cell_type": "markdown",
      "source": [
        "#Gettings Number of reviews"
      ],
      "metadata": {
        "id": "9y-ZChf5_HTN"
      }
    },
    {
      "cell_type": "code",
      "source": [
        "no_of_reviews_list = []\n",
        "#<span class=\"a-size-base s-light-weight-text\">16,715</span>\n",
        "for row in data_fields:\n",
        "  r = row.find_all('span', attrs={'class':'a-size-base'})\n",
        "  if(r):\n",
        "    no_of_reviews_list.append(r[0].text)\n",
        "  else:\n",
        "    no_of_reviews_list.append('NA')"
      ],
      "metadata": {
        "id": "PclUo5sX_rbh"
      },
      "execution_count": 140,
      "outputs": []
    },
    {
      "cell_type": "code",
      "source": [
        "no_of_reviews_list"
      ],
      "metadata": {
        "colab": {
          "base_uri": "https://localhost:8080/"
        },
        "id": "0fncitOqB92v",
        "outputId": "a08e07de-a045-4336-ffec-3a5976784a87"
      },
      "execution_count": 141,
      "outputs": [
        {
          "output_type": "execute_result",
          "data": {
            "text/plain": [
              "['NA',\n",
              " 'Only 5 left in stock.',\n",
              " '39,106',\n",
              " '99',\n",
              " '9,781',\n",
              " '13,419',\n",
              " '224',\n",
              " '8,165',\n",
              " '2,861',\n",
              " '1,341',\n",
              " '9,781',\n",
              " '5,602',\n",
              " '3,287',\n",
              " '10,512',\n",
              " '7,126',\n",
              " '1,714',\n",
              " '8,084',\n",
              " '3,981',\n",
              " '6,128',\n",
              " '6,128',\n",
              " '349',\n",
              " '6,128']"
            ]
          },
          "metadata": {},
          "execution_count": 141
        }
      ]
    },
    {
      "cell_type": "markdown",
      "source": [
        "# Getting Product URLs"
      ],
      "metadata": {
        "id": "VBK50hPiCWVn"
      }
    },
    {
      "cell_type": "code",
      "source": [
        "URLs_list = []"
      ],
      "metadata": {
        "id": "onCTb5g0CaJQ"
      },
      "execution_count": 119,
      "outputs": []
    },
    {
      "cell_type": "code",
      "source": [
        "URLs_list = []\n",
        "for row in data_fields:\n",
        "  strr = row.find('a', attrs={'class':'s-no-outline'}).get('href')\n",
        "  strr = 'https://www.amazon.in'+strr\n",
        "  URLs_list.append(strr)"
      ],
      "metadata": {
        "id": "_Ts4GWraFxsG"
      },
      "execution_count": 142,
      "outputs": []
    },
    {
      "cell_type": "markdown",
      "source": [
        "# Putting Data Together"
      ],
      "metadata": {
        "id": "hu4tG2K9LWli"
      }
    },
    {
      "cell_type": "code",
      "source": [
        "zipped = zip(names_list,prices_list,ratings_list,no_of_reviews_list,URLs_list)"
      ],
      "metadata": {
        "id": "EHGk_vevi7l1"
      },
      "execution_count": null,
      "outputs": []
    },
    {
      "cell_type": "code",
      "source": [
        "df = pd.DataFrame(zipped, columns=['Product Name','Product Price','Product_Rating','No. of Reviews','Product URL'])"
      ],
      "metadata": {
        "id": "-bIU9HhE9Rf-"
      },
      "execution_count": null,
      "outputs": []
    },
    {
      "cell_type": "code",
      "source": [
        "df"
      ],
      "metadata": {
        "colab": {
          "base_uri": "https://localhost:8080/",
          "height": 551
        },
        "id": "lKDhNL8wm2kz",
        "outputId": "51f6eb74-b260-40e1-9c6a-0b644d30939a"
      },
      "execution_count": null,
      "outputs": [
        {
          "output_type": "execute_result",
          "data": {
            "text/plain": [
              "                                         Product Name Product Price  \\\n",
              "0                  American Tourister Casual Backpack          ₹999   \n",
              "1   Half Moon 35 L Casual Waterproof Laptop Bag/Ba...          ₹689   \n",
              "2   SAFARI 15 Ltrs Sea Blue Casual/School/College ...          ₹299   \n",
              "3   TRUE HUMAN Emperor Anti-Theft backpack With US...          ₹689   \n",
              "4   Northzone Lightweight School Bags Backpacks fo...          ₹593   \n",
              "5   Fur Jaden 15.6 Inch Laptop Backpack 25 LTR Bag...          ₹499   \n",
              "6           Skybags Brat Black 46 Cms Casual Backpack          ₹599   \n",
              "7   Martucci 15.6 inch 30 L Casual Waterproof Lapt...          ₹539   \n",
              "8   Fur Jaden Anti Theft Backpack 15.6 Inch Laptop...          ₹799   \n",
              "9                       ADISA Laptop Backpack 31 Ltrs          ₹509   \n",
              "10  SAFARI 15 Ltrs Denim Blue Casual/School/Colleg...          ₹299   \n",
              "11  Bennett Mystic 15.6 inch Laptop Shoulder Messe...          ₹512   \n",
              "12  Gear Classic Anti Theft Faux Leather 18 inch 4...          ₹890   \n",
              "13  Lunar's Bingo - 48 L Laptop Office/School/Trav...          ₹899   \n",
              "14  Fur Jaden Hiking Camping Rucksack Casual 10 Lt...          ₹249   \n",
              "15  Lunar's Bingo - 48 L Laptop Office/School/Trav...          ₹899   \n",
              "\n",
              "        Product_Rating No. of Reviews  \\\n",
              "0   4.1 out of 5 stars         39,106   \n",
              "1   3.9 out of 5 stars          9,781   \n",
              "2   4.0 out of 5 stars         13,419   \n",
              "3   3.9 out of 5 stars            224   \n",
              "4   4.0 out of 5 stars          2,861   \n",
              "5   3.9 out of 5 stars          8,165   \n",
              "6   4.1 out of 5 stars          1,341   \n",
              "7   4.1 out of 5 stars          3,287   \n",
              "8   4.0 out of 5 stars         10,512   \n",
              "9   4.0 out of 5 stars          7,126   \n",
              "10  4.0 out of 5 stars          8,084   \n",
              "11  4.1 out of 5 stars          1,714   \n",
              "12  4.4 out of 5 stars          3,981   \n",
              "13  3.9 out of 5 stars          6,128   \n",
              "14  3.6 out of 5 stars          5,932   \n",
              "15  3.9 out of 5 stars          6,128   \n",
              "\n",
              "                                          Product URL  \n",
              "0   https://www.amazon.in/American-Tourister-AMT-S...  \n",
              "1   https://www.amazon.in/Half-Moon-Waterproof-Bac...  \n",
              "2   https://www.amazon.in/SAFARI-Ltrs-Casual-Backp...  \n",
              "3   https://www.amazon.in/TRUE-HUMAN-Anti-Theft-ba...  \n",
              "4   https://www.amazon.in/Northzone-Polyester-Scho...  \n",
              "5   https://www.amazon.in/Casual-Backpack-Charging...  \n",
              "6   https://www.amazon.in/Skybags-Brat-Black-Casua...  \n",
              "7   https://www.amazon.in/Martucci-Casual-Travelli...  \n",
              "8   https://www.amazon.in/Fur-Jaden-Black-Waterpro...  \n",
              "9   https://www.amazon.in/ADISA-BP004-Weight-Casua...  \n",
              "10  https://www.amazon.in/SAFARI-Denim-Casual-Back...  \n",
              "11  https://www.amazon.in/Bennett-Mystic-Shoulder-...  \n",
              "12  https://www.amazon.in/Gear-Classic-Leather-Bac...  \n",
              "13  https://www.amazon.in/Lunars-Bingo-Laptop-Resi...  \n",
              "14  https://www.amazon.in/Fur-Jaden-Rucksack-Backp...  \n",
              "15  https://www.amazon.in/Lunars-Bingo-Laptop-Resi...  "
            ],
            "text/html": [
              "\n",
              "  <div id=\"df-c9dc8290-f995-44cc-aae9-b9a39193300e\">\n",
              "    <div class=\"colab-df-container\">\n",
              "      <div>\n",
              "<style scoped>\n",
              "    .dataframe tbody tr th:only-of-type {\n",
              "        vertical-align: middle;\n",
              "    }\n",
              "\n",
              "    .dataframe tbody tr th {\n",
              "        vertical-align: top;\n",
              "    }\n",
              "\n",
              "    .dataframe thead th {\n",
              "        text-align: right;\n",
              "    }\n",
              "</style>\n",
              "<table border=\"1\" class=\"dataframe\">\n",
              "  <thead>\n",
              "    <tr style=\"text-align: right;\">\n",
              "      <th></th>\n",
              "      <th>Product Name</th>\n",
              "      <th>Product Price</th>\n",
              "      <th>Product_Rating</th>\n",
              "      <th>No. of Reviews</th>\n",
              "      <th>Product URL</th>\n",
              "    </tr>\n",
              "  </thead>\n",
              "  <tbody>\n",
              "    <tr>\n",
              "      <th>0</th>\n",
              "      <td>American Tourister Casual Backpack</td>\n",
              "      <td>₹999</td>\n",
              "      <td>4.1 out of 5 stars</td>\n",
              "      <td>39,106</td>\n",
              "      <td>https://www.amazon.in/American-Tourister-AMT-S...</td>\n",
              "    </tr>\n",
              "    <tr>\n",
              "      <th>1</th>\n",
              "      <td>Half Moon 35 L Casual Waterproof Laptop Bag/Ba...</td>\n",
              "      <td>₹689</td>\n",
              "      <td>3.9 out of 5 stars</td>\n",
              "      <td>9,781</td>\n",
              "      <td>https://www.amazon.in/Half-Moon-Waterproof-Bac...</td>\n",
              "    </tr>\n",
              "    <tr>\n",
              "      <th>2</th>\n",
              "      <td>SAFARI 15 Ltrs Sea Blue Casual/School/College ...</td>\n",
              "      <td>₹299</td>\n",
              "      <td>4.0 out of 5 stars</td>\n",
              "      <td>13,419</td>\n",
              "      <td>https://www.amazon.in/SAFARI-Ltrs-Casual-Backp...</td>\n",
              "    </tr>\n",
              "    <tr>\n",
              "      <th>3</th>\n",
              "      <td>TRUE HUMAN Emperor Anti-Theft backpack With US...</td>\n",
              "      <td>₹689</td>\n",
              "      <td>3.9 out of 5 stars</td>\n",
              "      <td>224</td>\n",
              "      <td>https://www.amazon.in/TRUE-HUMAN-Anti-Theft-ba...</td>\n",
              "    </tr>\n",
              "    <tr>\n",
              "      <th>4</th>\n",
              "      <td>Northzone Lightweight School Bags Backpacks fo...</td>\n",
              "      <td>₹593</td>\n",
              "      <td>4.0 out of 5 stars</td>\n",
              "      <td>2,861</td>\n",
              "      <td>https://www.amazon.in/Northzone-Polyester-Scho...</td>\n",
              "    </tr>\n",
              "    <tr>\n",
              "      <th>5</th>\n",
              "      <td>Fur Jaden 15.6 Inch Laptop Backpack 25 LTR Bag...</td>\n",
              "      <td>₹499</td>\n",
              "      <td>3.9 out of 5 stars</td>\n",
              "      <td>8,165</td>\n",
              "      <td>https://www.amazon.in/Casual-Backpack-Charging...</td>\n",
              "    </tr>\n",
              "    <tr>\n",
              "      <th>6</th>\n",
              "      <td>Skybags Brat Black 46 Cms Casual Backpack</td>\n",
              "      <td>₹599</td>\n",
              "      <td>4.1 out of 5 stars</td>\n",
              "      <td>1,341</td>\n",
              "      <td>https://www.amazon.in/Skybags-Brat-Black-Casua...</td>\n",
              "    </tr>\n",
              "    <tr>\n",
              "      <th>7</th>\n",
              "      <td>Martucci 15.6 inch 30 L Casual Waterproof Lapt...</td>\n",
              "      <td>₹539</td>\n",
              "      <td>4.1 out of 5 stars</td>\n",
              "      <td>3,287</td>\n",
              "      <td>https://www.amazon.in/Martucci-Casual-Travelli...</td>\n",
              "    </tr>\n",
              "    <tr>\n",
              "      <th>8</th>\n",
              "      <td>Fur Jaden Anti Theft Backpack 15.6 Inch Laptop...</td>\n",
              "      <td>₹799</td>\n",
              "      <td>4.0 out of 5 stars</td>\n",
              "      <td>10,512</td>\n",
              "      <td>https://www.amazon.in/Fur-Jaden-Black-Waterpro...</td>\n",
              "    </tr>\n",
              "    <tr>\n",
              "      <th>9</th>\n",
              "      <td>ADISA Laptop Backpack 31 Ltrs</td>\n",
              "      <td>₹509</td>\n",
              "      <td>4.0 out of 5 stars</td>\n",
              "      <td>7,126</td>\n",
              "      <td>https://www.amazon.in/ADISA-BP004-Weight-Casua...</td>\n",
              "    </tr>\n",
              "    <tr>\n",
              "      <th>10</th>\n",
              "      <td>SAFARI 15 Ltrs Denim Blue Casual/School/Colleg...</td>\n",
              "      <td>₹299</td>\n",
              "      <td>4.0 out of 5 stars</td>\n",
              "      <td>8,084</td>\n",
              "      <td>https://www.amazon.in/SAFARI-Denim-Casual-Back...</td>\n",
              "    </tr>\n",
              "    <tr>\n",
              "      <th>11</th>\n",
              "      <td>Bennett Mystic 15.6 inch Laptop Shoulder Messe...</td>\n",
              "      <td>₹512</td>\n",
              "      <td>4.1 out of 5 stars</td>\n",
              "      <td>1,714</td>\n",
              "      <td>https://www.amazon.in/Bennett-Mystic-Shoulder-...</td>\n",
              "    </tr>\n",
              "    <tr>\n",
              "      <th>12</th>\n",
              "      <td>Gear Classic Anti Theft Faux Leather 18 inch 4...</td>\n",
              "      <td>₹890</td>\n",
              "      <td>4.4 out of 5 stars</td>\n",
              "      <td>3,981</td>\n",
              "      <td>https://www.amazon.in/Gear-Classic-Leather-Bac...</td>\n",
              "    </tr>\n",
              "    <tr>\n",
              "      <th>13</th>\n",
              "      <td>Lunar's Bingo - 48 L Laptop Office/School/Trav...</td>\n",
              "      <td>₹899</td>\n",
              "      <td>3.9 out of 5 stars</td>\n",
              "      <td>6,128</td>\n",
              "      <td>https://www.amazon.in/Lunars-Bingo-Laptop-Resi...</td>\n",
              "    </tr>\n",
              "    <tr>\n",
              "      <th>14</th>\n",
              "      <td>Fur Jaden Hiking Camping Rucksack Casual 10 Lt...</td>\n",
              "      <td>₹249</td>\n",
              "      <td>3.6 out of 5 stars</td>\n",
              "      <td>5,932</td>\n",
              "      <td>https://www.amazon.in/Fur-Jaden-Rucksack-Backp...</td>\n",
              "    </tr>\n",
              "    <tr>\n",
              "      <th>15</th>\n",
              "      <td>Lunar's Bingo - 48 L Laptop Office/School/Trav...</td>\n",
              "      <td>₹899</td>\n",
              "      <td>3.9 out of 5 stars</td>\n",
              "      <td>6,128</td>\n",
              "      <td>https://www.amazon.in/Lunars-Bingo-Laptop-Resi...</td>\n",
              "    </tr>\n",
              "  </tbody>\n",
              "</table>\n",
              "</div>\n",
              "      <button class=\"colab-df-convert\" onclick=\"convertToInteractive('df-c9dc8290-f995-44cc-aae9-b9a39193300e')\"\n",
              "              title=\"Convert this dataframe to an interactive table.\"\n",
              "              style=\"display:none;\">\n",
              "        \n",
              "  <svg xmlns=\"http://www.w3.org/2000/svg\" height=\"24px\"viewBox=\"0 0 24 24\"\n",
              "       width=\"24px\">\n",
              "    <path d=\"M0 0h24v24H0V0z\" fill=\"none\"/>\n",
              "    <path d=\"M18.56 5.44l.94 2.06.94-2.06 2.06-.94-2.06-.94-.94-2.06-.94 2.06-2.06.94zm-11 1L8.5 8.5l.94-2.06 2.06-.94-2.06-.94L8.5 2.5l-.94 2.06-2.06.94zm10 10l.94 2.06.94-2.06 2.06-.94-2.06-.94-.94-2.06-.94 2.06-2.06.94z\"/><path d=\"M17.41 7.96l-1.37-1.37c-.4-.4-.92-.59-1.43-.59-.52 0-1.04.2-1.43.59L10.3 9.45l-7.72 7.72c-.78.78-.78 2.05 0 2.83L4 21.41c.39.39.9.59 1.41.59.51 0 1.02-.2 1.41-.59l7.78-7.78 2.81-2.81c.8-.78.8-2.07 0-2.86zM5.41 20L4 18.59l7.72-7.72 1.47 1.35L5.41 20z\"/>\n",
              "  </svg>\n",
              "      </button>\n",
              "      \n",
              "  <style>\n",
              "    .colab-df-container {\n",
              "      display:flex;\n",
              "      flex-wrap:wrap;\n",
              "      gap: 12px;\n",
              "    }\n",
              "\n",
              "    .colab-df-convert {\n",
              "      background-color: #E8F0FE;\n",
              "      border: none;\n",
              "      border-radius: 50%;\n",
              "      cursor: pointer;\n",
              "      display: none;\n",
              "      fill: #1967D2;\n",
              "      height: 32px;\n",
              "      padding: 0 0 0 0;\n",
              "      width: 32px;\n",
              "    }\n",
              "\n",
              "    .colab-df-convert:hover {\n",
              "      background-color: #E2EBFA;\n",
              "      box-shadow: 0px 1px 2px rgba(60, 64, 67, 0.3), 0px 1px 3px 1px rgba(60, 64, 67, 0.15);\n",
              "      fill: #174EA6;\n",
              "    }\n",
              "\n",
              "    [theme=dark] .colab-df-convert {\n",
              "      background-color: #3B4455;\n",
              "      fill: #D2E3FC;\n",
              "    }\n",
              "\n",
              "    [theme=dark] .colab-df-convert:hover {\n",
              "      background-color: #434B5C;\n",
              "      box-shadow: 0px 1px 3px 1px rgba(0, 0, 0, 0.15);\n",
              "      filter: drop-shadow(0px 1px 2px rgba(0, 0, 0, 0.3));\n",
              "      fill: #FFFFFF;\n",
              "    }\n",
              "  </style>\n",
              "\n",
              "      <script>\n",
              "        const buttonEl =\n",
              "          document.querySelector('#df-c9dc8290-f995-44cc-aae9-b9a39193300e button.colab-df-convert');\n",
              "        buttonEl.style.display =\n",
              "          google.colab.kernel.accessAllowed ? 'block' : 'none';\n",
              "\n",
              "        async function convertToInteractive(key) {\n",
              "          const element = document.querySelector('#df-c9dc8290-f995-44cc-aae9-b9a39193300e');\n",
              "          const dataTable =\n",
              "            await google.colab.kernel.invokeFunction('convertToInteractive',\n",
              "                                                     [key], {});\n",
              "          if (!dataTable) return;\n",
              "\n",
              "          const docLinkHtml = 'Like what you see? Visit the ' +\n",
              "            '<a target=\"_blank\" href=https://colab.research.google.com/notebooks/data_table.ipynb>data table notebook</a>'\n",
              "            + ' to learn more about interactive tables.';\n",
              "          element.innerHTML = '';\n",
              "          dataTable['output_type'] = 'display_data';\n",
              "          await google.colab.output.renderOutput(dataTable, element);\n",
              "          const docLink = document.createElement('div');\n",
              "          docLink.innerHTML = docLinkHtml;\n",
              "          element.appendChild(docLink);\n",
              "        }\n",
              "      </script>\n",
              "    </div>\n",
              "  </div>\n",
              "  "
            ]
          },
          "metadata": {},
          "execution_count": 81
        }
      ]
    },
    {
      "cell_type": "markdown",
      "source": [
        "# ***Getting the above data for first 20 pages*** "
      ],
      "metadata": {
        "id": "RwbEIIyII8Yb"
      }
    },
    {
      "cell_type": "code",
      "source": [
        "names_list = []\n",
        "ratings_list = []\n",
        "prices_list = []\n",
        "URLs_list = []\n",
        "no_of_reviews_list = []\n",
        "\n",
        "for i in range(1, 21):\n",
        "  #Generating Url for first 20 pages\n",
        "  url = 'https://www.amazon.in/s?k=bags&page='+str(i)+'&crid=2M096C61O4MLT&qid=1653552543&sprefix=ba%2Caps%2C283&ref=sr_pg_'+str(i)\n",
        "  header = {\"user-agent\": \"Mozilla/5.0 (Windows NT 10.0; Win64; x64) AppleWebKit/537.36 (KHTML, like Gecko) Chrome/74.0.3729.169 Safari/537.36\" ,'referer':'https://www.google.com/'}\n",
        "  \n",
        "  #getting response from each url\n",
        "  response = requests.get(url, headers = header)\n",
        "  soup = bs(response.content)\n",
        "  \n",
        "  #getting html data of each product for each page \n",
        "  data_fields = []\n",
        "  data_fields = soup.find_all('div', attrs={'data-component-type':'s-search-result', 'class':\"s-result-item s-asin sg-col-0-of-12 sg-col-16-of-20 sg-col s-widget-spacing-small sg-col-12-of-16\"})\n",
        "\n",
        "\n",
        "  #getting names of each product for each page\n",
        "  names_raw = []\n",
        "  for row in data_fields:\n",
        "    name_raw = row.find_all('span', attrs={'class': 'a-size-medium a-color-base a-text-normal'})\n",
        "    names_list.append(name_raw[0].text)\n",
        "\n",
        "  #getting ratings of each product for each page\n",
        "  rat = []\n",
        "  for row in data_fields:\n",
        "    rat = row.find_all('span', attrs={'class': 'a-icon-alt'})\n",
        "    if(rat):\n",
        "      ratings_list.append(rat[0].text)\n",
        "    else:\n",
        "      ratings_list.append(\"NOT AVAILABLE\")\n",
        "  \n",
        "  #getting prices of each product for each page\n",
        "  prices_raw = []\n",
        "  for row in data_fields:\n",
        "    price_raw = row.find_all('span', attrs={'class':'a-offscreen'})\n",
        "    if(price_raw):\n",
        "      prices_list.append(price_raw[0].text)\n",
        "    else:\n",
        "      prices_list.append(\"NOT AVAILABLE\")\n",
        "  \n",
        "  #getting url of each product on each page\n",
        "  for row in data_fields:\n",
        "    strr = row.find('a', attrs={'class':'s-no-outline'}).get('href')\n",
        "    strr = 'https://www.amazon.in'+strr\n",
        "    URLs_list.append(strr)\n",
        "\n",
        "  #getiing no_of_reviews for each product on each page\n",
        "  r = []\n",
        "  for row in data_fields:\n",
        "    r = row.find_all('span', attrs={'class':'a-size-base'})\n",
        "    if(r):\n",
        "      no_of_reviews_list.append(r[0].text)\n",
        "    else:\n",
        "      no_of_reviews_list.append('NA')"
      ],
      "metadata": {
        "id": "h0uzSu-knY_E"
      },
      "execution_count": null,
      "outputs": []
    },
    {
      "cell_type": "code",
      "source": [
        "zippe = zip(names_list,prices_list,ratings_list,no_of_reviews_list,URLs_list)"
      ],
      "metadata": {
        "id": "kNCBhgspnY8x"
      },
      "execution_count": 145,
      "outputs": []
    },
    {
      "cell_type": "code",
      "source": [
        "df = pd.DataFrame(zippe, columns=['Product Name','Product Price','Product_Rating','No. of Reviews','Product URL'])\n",
        "df"
      ],
      "metadata": {
        "id": "PjRAcn5XnY4i",
        "colab": {
          "base_uri": "https://localhost:8080/",
          "height": 835
        },
        "outputId": "34fd9be1-0574-436b-90f8-dd92702951ed"
      },
      "execution_count": 146,
      "outputs": [
        {
          "output_type": "execute_result",
          "data": {
            "text/plain": [
              "                                          Product Name Product Price  \\\n",
              "0                   American Tourister Casual Backpack          ₹999   \n",
              "1    Half Moon 35 L Casual Waterproof Laptop Bag/Ba...          ₹689   \n",
              "2    SAFARI 15 Ltrs Sea Blue Casual/School/College ...          ₹299   \n",
              "3    TRUE HUMAN Emperor Anti-Theft backpack With US...          ₹689   \n",
              "4    Fur Jaden 15.6 Inch Laptop Backpack 25 LTR Bag...          ₹499   \n",
              "..                                                 ...           ...   \n",
              "301  Beauty Girls®-1522 Polyester Floral printed De...          ₹879   \n",
              "302  POLESTAR Enzo 35 L College/ School/ Office/ Ca...       ₹699.36   \n",
              "303  Urban Tribe Accelerator 30L Laptop Backpack wi...        ₹1,649   \n",
              "304  Protecta Bolt 30 L Backpack for Laptops Up to ...          ₹479   \n",
              "305                   ADISA Women's & Girls' Sling Bag          ₹399   \n",
              "\n",
              "         Product_Rating       No. of Reviews  \\\n",
              "0    4.1 out of 5 stars               39,106   \n",
              "1    3.9 out of 5 stars                9,781   \n",
              "2    4.0 out of 5 stars               13,419   \n",
              "3    3.9 out of 5 stars                  224   \n",
              "4    3.9 out of 5 stars                8,165   \n",
              "..                  ...                  ...   \n",
              "301  4.3 out of 5 stars                  123   \n",
              "302  4.2 out of 5 stars                2,653   \n",
              "303  4.1 out of 5 stars                  349   \n",
              "304       NOT AVAILABLE  More Buying Choices   \n",
              "305  4.2 out of 5 stars                1,455   \n",
              "\n",
              "                                           Product URL  \n",
              "0    https://www.amazon.in/American-Tourister-AMT-S...  \n",
              "1    https://www.amazon.in/Half-Moon-Waterproof-Bac...  \n",
              "2    https://www.amazon.in/SAFARI-Ltrs-Casual-Backp...  \n",
              "3    https://www.amazon.in/TRUE-HUMAN-Anti-Theft-ba...  \n",
              "4    https://www.amazon.in/Casual-Backpack-Charging...  \n",
              "..                                                 ...  \n",
              "301  https://www.amazon.in/Girls-1522-Polyester-Des...  \n",
              "302  https://www.amazon.in/Polestar-Liters-Polyeste...  \n",
              "303  https://www.amazon.in/Urban-Tribe-Laptop-Backp...  \n",
              "304  https://www.amazon.in/Protecta-Bolt-Backpack-L...  \n",
              "305  https://www.amazon.in/ADISA-Womens-Girls-Sling...  \n",
              "\n",
              "[306 rows x 5 columns]"
            ],
            "text/html": [
              "\n",
              "  <div id=\"df-fba6e884-cb4c-41aa-a6c6-4f8a717eb40a\">\n",
              "    <div class=\"colab-df-container\">\n",
              "      <div>\n",
              "<style scoped>\n",
              "    .dataframe tbody tr th:only-of-type {\n",
              "        vertical-align: middle;\n",
              "    }\n",
              "\n",
              "    .dataframe tbody tr th {\n",
              "        vertical-align: top;\n",
              "    }\n",
              "\n",
              "    .dataframe thead th {\n",
              "        text-align: right;\n",
              "    }\n",
              "</style>\n",
              "<table border=\"1\" class=\"dataframe\">\n",
              "  <thead>\n",
              "    <tr style=\"text-align: right;\">\n",
              "      <th></th>\n",
              "      <th>Product Name</th>\n",
              "      <th>Product Price</th>\n",
              "      <th>Product_Rating</th>\n",
              "      <th>No. of Reviews</th>\n",
              "      <th>Product URL</th>\n",
              "    </tr>\n",
              "  </thead>\n",
              "  <tbody>\n",
              "    <tr>\n",
              "      <th>0</th>\n",
              "      <td>American Tourister Casual Backpack</td>\n",
              "      <td>₹999</td>\n",
              "      <td>4.1 out of 5 stars</td>\n",
              "      <td>39,106</td>\n",
              "      <td>https://www.amazon.in/American-Tourister-AMT-S...</td>\n",
              "    </tr>\n",
              "    <tr>\n",
              "      <th>1</th>\n",
              "      <td>Half Moon 35 L Casual Waterproof Laptop Bag/Ba...</td>\n",
              "      <td>₹689</td>\n",
              "      <td>3.9 out of 5 stars</td>\n",
              "      <td>9,781</td>\n",
              "      <td>https://www.amazon.in/Half-Moon-Waterproof-Bac...</td>\n",
              "    </tr>\n",
              "    <tr>\n",
              "      <th>2</th>\n",
              "      <td>SAFARI 15 Ltrs Sea Blue Casual/School/College ...</td>\n",
              "      <td>₹299</td>\n",
              "      <td>4.0 out of 5 stars</td>\n",
              "      <td>13,419</td>\n",
              "      <td>https://www.amazon.in/SAFARI-Ltrs-Casual-Backp...</td>\n",
              "    </tr>\n",
              "    <tr>\n",
              "      <th>3</th>\n",
              "      <td>TRUE HUMAN Emperor Anti-Theft backpack With US...</td>\n",
              "      <td>₹689</td>\n",
              "      <td>3.9 out of 5 stars</td>\n",
              "      <td>224</td>\n",
              "      <td>https://www.amazon.in/TRUE-HUMAN-Anti-Theft-ba...</td>\n",
              "    </tr>\n",
              "    <tr>\n",
              "      <th>4</th>\n",
              "      <td>Fur Jaden 15.6 Inch Laptop Backpack 25 LTR Bag...</td>\n",
              "      <td>₹499</td>\n",
              "      <td>3.9 out of 5 stars</td>\n",
              "      <td>8,165</td>\n",
              "      <td>https://www.amazon.in/Casual-Backpack-Charging...</td>\n",
              "    </tr>\n",
              "    <tr>\n",
              "      <th>...</th>\n",
              "      <td>...</td>\n",
              "      <td>...</td>\n",
              "      <td>...</td>\n",
              "      <td>...</td>\n",
              "      <td>...</td>\n",
              "    </tr>\n",
              "    <tr>\n",
              "      <th>301</th>\n",
              "      <td>Beauty Girls®-1522 Polyester Floral printed De...</td>\n",
              "      <td>₹879</td>\n",
              "      <td>4.3 out of 5 stars</td>\n",
              "      <td>123</td>\n",
              "      <td>https://www.amazon.in/Girls-1522-Polyester-Des...</td>\n",
              "    </tr>\n",
              "    <tr>\n",
              "      <th>302</th>\n",
              "      <td>POLESTAR Enzo 35 L College/ School/ Office/ Ca...</td>\n",
              "      <td>₹699.36</td>\n",
              "      <td>4.2 out of 5 stars</td>\n",
              "      <td>2,653</td>\n",
              "      <td>https://www.amazon.in/Polestar-Liters-Polyeste...</td>\n",
              "    </tr>\n",
              "    <tr>\n",
              "      <th>303</th>\n",
              "      <td>Urban Tribe Accelerator 30L Laptop Backpack wi...</td>\n",
              "      <td>₹1,649</td>\n",
              "      <td>4.1 out of 5 stars</td>\n",
              "      <td>349</td>\n",
              "      <td>https://www.amazon.in/Urban-Tribe-Laptop-Backp...</td>\n",
              "    </tr>\n",
              "    <tr>\n",
              "      <th>304</th>\n",
              "      <td>Protecta Bolt 30 L Backpack for Laptops Up to ...</td>\n",
              "      <td>₹479</td>\n",
              "      <td>NOT AVAILABLE</td>\n",
              "      <td>More Buying Choices</td>\n",
              "      <td>https://www.amazon.in/Protecta-Bolt-Backpack-L...</td>\n",
              "    </tr>\n",
              "    <tr>\n",
              "      <th>305</th>\n",
              "      <td>ADISA Women's &amp; Girls' Sling Bag</td>\n",
              "      <td>₹399</td>\n",
              "      <td>4.2 out of 5 stars</td>\n",
              "      <td>1,455</td>\n",
              "      <td>https://www.amazon.in/ADISA-Womens-Girls-Sling...</td>\n",
              "    </tr>\n",
              "  </tbody>\n",
              "</table>\n",
              "<p>306 rows × 5 columns</p>\n",
              "</div>\n",
              "      <button class=\"colab-df-convert\" onclick=\"convertToInteractive('df-fba6e884-cb4c-41aa-a6c6-4f8a717eb40a')\"\n",
              "              title=\"Convert this dataframe to an interactive table.\"\n",
              "              style=\"display:none;\">\n",
              "        \n",
              "  <svg xmlns=\"http://www.w3.org/2000/svg\" height=\"24px\"viewBox=\"0 0 24 24\"\n",
              "       width=\"24px\">\n",
              "    <path d=\"M0 0h24v24H0V0z\" fill=\"none\"/>\n",
              "    <path d=\"M18.56 5.44l.94 2.06.94-2.06 2.06-.94-2.06-.94-.94-2.06-.94 2.06-2.06.94zm-11 1L8.5 8.5l.94-2.06 2.06-.94-2.06-.94L8.5 2.5l-.94 2.06-2.06.94zm10 10l.94 2.06.94-2.06 2.06-.94-2.06-.94-.94-2.06-.94 2.06-2.06.94z\"/><path d=\"M17.41 7.96l-1.37-1.37c-.4-.4-.92-.59-1.43-.59-.52 0-1.04.2-1.43.59L10.3 9.45l-7.72 7.72c-.78.78-.78 2.05 0 2.83L4 21.41c.39.39.9.59 1.41.59.51 0 1.02-.2 1.41-.59l7.78-7.78 2.81-2.81c.8-.78.8-2.07 0-2.86zM5.41 20L4 18.59l7.72-7.72 1.47 1.35L5.41 20z\"/>\n",
              "  </svg>\n",
              "      </button>\n",
              "      \n",
              "  <style>\n",
              "    .colab-df-container {\n",
              "      display:flex;\n",
              "      flex-wrap:wrap;\n",
              "      gap: 12px;\n",
              "    }\n",
              "\n",
              "    .colab-df-convert {\n",
              "      background-color: #E8F0FE;\n",
              "      border: none;\n",
              "      border-radius: 50%;\n",
              "      cursor: pointer;\n",
              "      display: none;\n",
              "      fill: #1967D2;\n",
              "      height: 32px;\n",
              "      padding: 0 0 0 0;\n",
              "      width: 32px;\n",
              "    }\n",
              "\n",
              "    .colab-df-convert:hover {\n",
              "      background-color: #E2EBFA;\n",
              "      box-shadow: 0px 1px 2px rgba(60, 64, 67, 0.3), 0px 1px 3px 1px rgba(60, 64, 67, 0.15);\n",
              "      fill: #174EA6;\n",
              "    }\n",
              "\n",
              "    [theme=dark] .colab-df-convert {\n",
              "      background-color: #3B4455;\n",
              "      fill: #D2E3FC;\n",
              "    }\n",
              "\n",
              "    [theme=dark] .colab-df-convert:hover {\n",
              "      background-color: #434B5C;\n",
              "      box-shadow: 0px 1px 3px 1px rgba(0, 0, 0, 0.15);\n",
              "      filter: drop-shadow(0px 1px 2px rgba(0, 0, 0, 0.3));\n",
              "      fill: #FFFFFF;\n",
              "    }\n",
              "  </style>\n",
              "\n",
              "      <script>\n",
              "        const buttonEl =\n",
              "          document.querySelector('#df-fba6e884-cb4c-41aa-a6c6-4f8a717eb40a button.colab-df-convert');\n",
              "        buttonEl.style.display =\n",
              "          google.colab.kernel.accessAllowed ? 'block' : 'none';\n",
              "\n",
              "        async function convertToInteractive(key) {\n",
              "          const element = document.querySelector('#df-fba6e884-cb4c-41aa-a6c6-4f8a717eb40a');\n",
              "          const dataTable =\n",
              "            await google.colab.kernel.invokeFunction('convertToInteractive',\n",
              "                                                     [key], {});\n",
              "          if (!dataTable) return;\n",
              "\n",
              "          const docLinkHtml = 'Like what you see? Visit the ' +\n",
              "            '<a target=\"_blank\" href=https://colab.research.google.com/notebooks/data_table.ipynb>data table notebook</a>'\n",
              "            + ' to learn more about interactive tables.';\n",
              "          element.innerHTML = '';\n",
              "          dataTable['output_type'] = 'display_data';\n",
              "          await google.colab.output.renderOutput(dataTable, element);\n",
              "          const docLink = document.createElement('div');\n",
              "          docLink.innerHTML = docLinkHtml;\n",
              "          element.appendChild(docLink);\n",
              "        }\n",
              "      </script>\n",
              "    </div>\n",
              "  </div>\n",
              "  "
            ]
          },
          "metadata": {},
          "execution_count": 146
        }
      ]
    },
    {
      "cell_type": "code",
      "source": [
        "df.to_csv(\"Python_assignment_data.csv\", index=None)"
      ],
      "metadata": {
        "id": "mNtMqvskwQC7"
      },
      "execution_count": 154,
      "outputs": []
    }
  ]
}